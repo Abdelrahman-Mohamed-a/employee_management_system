{
 "cells": [
  {
   "cell_type": "code",
   "execution_count": 2,
   "id": "5511662f-b98c-46f8-8f16-7f23e01b3410",
   "metadata": {},
   "outputs": [],
   "source": [
    "#imports\n",
    "import csv\n",
    "import re"
   ]
  },
  {
   "cell_type": "code",
   "execution_count": 3,
   "id": "3ebbcf88-5a0f-4b18-8ad1-2e3d8f789719",
   "metadata": {},
   "outputs": [],
   "source": [
    "class Employee:\n",
    "    def __init__(self,employee_data):\n",
    "        self.id = employee_data['id']\n",
    "        self.name = employee_data['name']\n",
    "        self.position = employee_data['position']\n",
    "        self.salary = employee_data['salary']\n",
    "        self.email = employee_data['email']\n",
    "    def update(self,employee_update_data):\n",
    "        for key,val in employee_update_data.items():\n",
    "            setattr(self, key, val)\n",
    "    def display(self):\n",
    "        print(f\"id={self.id},name={self.name},position={self.position},salary={self.salary},email={self.email}\\n\\n\")\n",
    "\n"
   ]
  },
  {
   "cell_type": "code",
   "execution_count": 4,
   "id": "94bb33ba-fafa-4f3f-ba18-049c0b006934",
   "metadata": {},
   "outputs": [],
   "source": [
    "class EmployeeManager:\n",
    "    def __init__(self,filename):\n",
    "        self.filename = filename\n",
    "        self.employees = []\n",
    "        with open(filename, mode=\"r\", encoding=\"utf-8\") as file:\n",
    "            reader = csv.DictReader(file)\n",
    "            for row in reader:\n",
    "                self.employees.append(Employee(row))\n",
    "\n",
    "    def get_employee_by_id(self,employee_id,display=True):\n",
    "        for employee in self.employees:\n",
    "            if int(employee.id) == int(employee_id):\n",
    "                if display:\n",
    "                    employee.display()\n",
    "                return True\n",
    "\n",
    "        return False\n",
    "\n",
    "    \n",
    "    def display_all_employees(self):\n",
    "        for employee in self.employees:\n",
    "            employee.display()\n",
    "            \n",
    "    def add_new_employee(self,employee_data):\n",
    "        employee_data['id'] = int(self.employees[-1].id) + 1\n",
    "        self.employees.append(Employee(employee_data))\n",
    "        with open(self.filename, mode=\"a\", encoding=\"utf-8\") as file:\n",
    "            writer = csv.writer(file)\n",
    "            writer.writerow([employee_data['id'],employee_data['name'],employee_data['position'],employee_data['salary'],employee_data['email']])\n",
    "        print(\"Employee added successfully!\")\n",
    "        self.employees[-1].display()\n",
    "\n",
    "\n",
    "    def update_csv_file(self):\n",
    "        with open(self.filename, mode=\"w\", encoding=\"utf-8\") as file:\n",
    "            writer = csv.writer(file)\n",
    "            writer.writerow([\"id\",\"name\",\"position\",\"salary\",\"email\"])\n",
    "            for employee in self.employees:\n",
    "                writer.writerow([employee.id,employee.name,employee.position,employee.salary,employee.email])\n",
    "\n",
    "    def update_employee(self,employee_data):\n",
    "        for employee in self.employees:\n",
    "            if int(employee.id) == int(employee_data['id']):\n",
    "                employee.update(employee_data)\n",
    "                self.update_csv_file()\n",
    "                return True\n",
    "        return False\n",
    "\n",
    "    def delete_employee(self,employee_id):\n",
    "        for i in range(len(self.employees)):\n",
    "            if int(self.employees[i].id) == employee_id:\n",
    "                self.employees.pop(i)\n",
    "                self.update_csv_file()\n",
    "                return True\n",
    "        return False\n",
    "\n"
   ]
  },
  {
   "cell_type": "code",
   "execution_count": 5,
   "id": "3b5a4d0c-f63e-4c2e-bd36-68edb046294f",
   "metadata": {},
   "outputs": [],
   "source": [
    "def is_valid_email(email):\n",
    "    pattern = r'^[a-zA-Z0-9._%+-]+@[a-zA-Z0-9.-]+\\.[a-zA-Z]{2,}$'\n",
    "    return re.match(pattern, email) is not None"
   ]
  },
  {
   "cell_type": "code",
   "execution_count": 6,
   "id": "2470f156-a087-4a65-87b8-1d9a7018def9",
   "metadata": {},
   "outputs": [],
   "source": [
    "def is_contain_all_fields(employee_data):\n",
    "    return (employee_data['salary'] and\n",
    "            employee_data['name'] and\n",
    "            employee_data['position'] and\n",
    "            employee_data['email'])"
   ]
  },
  {
   "cell_type": "code",
   "execution_count": 7,
   "id": "810a1486-a940-4031-9a31-631ef7d4efb4",
   "metadata": {},
   "outputs": [],
   "source": [
    "def is_number(string):\n",
    "    try:\n",
    "        int(string)\n",
    "        return True\n",
    "    except ValueError:\n",
    "        return False"
   ]
  },
  {
   "cell_type": "code",
   "execution_count": 8,
   "id": "9368f4b4-a663-48da-90fe-9d9bbd80c301",
   "metadata": {},
   "outputs": [],
   "source": [
    "def handle_choice_1():\n",
    "    employee_data = {\n",
    "        \"email\": input(\"Enter employee email: \").strip(),\n",
    "        \"salary\": input(\"Enter employee salary: \").strip(),\n",
    "        \"name\": input(\"Enter employee name: \").strip(),\n",
    "        \"position\": input(\"Enter employee position: \").strip(),\n",
    "    }\n",
    "    if not is_contain_all_fields(employee_data):\n",
    "        print(\"Please enter all required fields.\")\n",
    "        return\n",
    "\n",
    "    if not is_valid_email(employee_data['email']):\n",
    "        print(\"Please enter a valid email address.\")\n",
    "        return\n",
    "    if not is_number(employee_data['salary']):\n",
    "        print(\"Please enter a valid salary.\")\n",
    "        return\n",
    "    employee_data['salary'] = int(employee_data['salary'])\n",
    "    employee_manager.add_new_employee(employee_data)\n"
   ]
  },
  {
   "cell_type": "code",
   "execution_count": 9,
   "id": "295b812c-8c06-479d-9c15-a259b9099b3e",
   "metadata": {},
   "outputs": [],
   "source": [
    "\n",
    "def handle_choice_2():\n",
    "    employee_data = {\n",
    "        \"id\": input(\"Enter employee id: \").strip(),\n",
    "    }\n",
    "    if not is_number(employee_data['id']):\n",
    "        print(\"Invalid Id\")\n",
    "        return\n",
    "    employee_data['id'] = int(employee_data['id'])\n",
    "\n",
    "    email = input(\"Enter new employee email if you want to update it if not press enter:\").strip()\n",
    "    if email:\n",
    "        if not is_valid_email(email):\n",
    "            print(\"Invalid email address.\")\n",
    "            return\n",
    "        employee_data['email'] = email\n",
    "    name = input(\"Enter new employee name if you want to update it if not press enter:\").strip()\n",
    "    if name:\n",
    "        employee_data['name'] = name\n",
    "    position = input(\"Enter new employee position if you want to update it if not press enter:\").strip()\n",
    "    if position:\n",
    "        employee_data['position'] = position\n",
    "    salary = input(\"Enter new employee salary if you want to update it if not press enter:\").strip()\n",
    "    if salary:\n",
    "        if not is_number(salary) or int(salary) <= 0:\n",
    "            print(\"Invalid salary value.\")\n",
    "            return\n",
    "        employee_data['salary'] = int(salary)\n",
    "\n",
    "    if employee_manager.update_employee(employee_data):\n",
    "        print(\"Employee updated successfully!\")\n",
    "    else:print(\"Employee not found.\")\n"
   ]
  },
  {
   "cell_type": "code",
   "execution_count": 10,
   "id": "3b2d1176-9870-4cb3-8f00-bafa866cb1cb",
   "metadata": {},
   "outputs": [],
   "source": [
    "def handle_choice_3():\n",
    "        employee_id = input(\"Enter employee id: \").strip()\n",
    "        if not is_number(employee_id):\n",
    "            print(\"Invalid Id\")\n",
    "            return\n",
    "        employee_id = int(employee_id)\n",
    "        if employee_manager.delete_employee(employee_id):\n",
    "            print(\"Employee deleted successfully!\")\n",
    "        else:print(\"Employee not found.\")\n",
    "\n"
   ]
  },
  {
   "cell_type": "code",
   "execution_count": 11,
   "id": "eb2784c2-e530-4ea4-8359-eb3459222ea6",
   "metadata": {},
   "outputs": [],
   "source": [
    "def handle_choice_4():\n",
    "    employee_id = input(\"Enter employee id: \").strip()\n",
    "    if not is_number(employee_id):\n",
    "        print(\"Invalid Id\")\n",
    "        return\n",
    "    employee_id = int(employee_id)\n",
    "    if not employee_manager.get_employee_by_id(employee_id):\n",
    "        print(\"Employee not found.\")"
   ]
  },
  {
   "cell_type": "code",
   "execution_count": 12,
   "id": "f084a428-648d-4eb4-acb7-6f2d6e46b254",
   "metadata": {},
   "outputs": [],
   "source": [
    "def handle_choice_5():\n",
    "    employee_manager.display_all_employees()"
   ]
  },
  {
   "cell_type": "code",
   "execution_count": 13,
   "id": "fa915e72-1426-430f-a580-bfcff57756ff",
   "metadata": {},
   "outputs": [],
   "source": [
    "def print_options():\n",
    "    print(\"\\n\\nPlease choose an option:\")\n",
    "    print(\"1. Add new employee\")\n",
    "    print(\"2. Update employee\")\n",
    "    print(\"3. Delete employee\")\n",
    "    print(\"4. Search for employees\")\n",
    "    print(\"5. List all employees\")\n",
    "    print(\"6. Exit\")"
   ]
  },
  {
   "cell_type": "code",
   "execution_count": null,
   "id": "22817eff-da0f-4b38-b82d-8edebdf53fd7",
   "metadata": {},
   "outputs": [
    {
     "name": "stdout",
     "output_type": "stream",
     "text": [
      "Hello👋, Welcome to Employee Management System!\n",
      "\n",
      "\n",
      "Please choose an option:\n",
      "1. Add new employee\n",
      "2. Update employee\n",
      "3. Delete employee\n",
      "4. Search for employees\n",
      "5. List all employees\n",
      "6. Exit\n"
     ]
    },
    {
     "name": "stdin",
     "output_type": "stream",
     "text": [
      "Enter your choice (1/2/3/4/5/6):  5\n"
     ]
    },
    {
     "name": "stdout",
     "output_type": "stream",
     "text": [
      "id=4,name=abdo,position=writer,salary=60000,email=abdo@gmail.com\n",
      "\n",
      "\n",
      "id=5,name=said,position=writer,salary=60000,email=abdo@gmail.com\n",
      "\n",
      "\n",
      "id=6,name=said,position=writer,salary=60000,email=abdo@gmail.com\n",
      "\n",
      "\n",
      "id=8,name=abdo,position=software engineer,salary=4000,email=abdo@gmail.com\n",
      "\n",
      "\n",
      "id=11,name=abdo,position=software engineer,salary=4000,email=abdo@gmail.com\n",
      "\n",
      "\n",
      "id=12,name=abdo,position=software engineer,salary=4000,email=abdo@gmail.com\n",
      "\n",
      "\n",
      "id=13,name=fatam,position=developer,salary=10,email=fatam@gmail.com\n",
      "\n",
      "\n",
      "id=14,name=OSMAN,position=DEVLEOPER,salary=10,email=osman@gmail.com\n",
      "\n",
      "\n",
      "id=15,name=body,position=devops,salary=133,email=abdo@gmail.com\n",
      "\n",
      "\n",
      "id=16,name=abdo,position=mlops,salary=10000,email=said@gmail.com\n",
      "\n",
      "\n",
      "\n",
      "\n",
      "Please choose an option:\n",
      "1. Add new employee\n",
      "2. Update employee\n",
      "3. Delete employee\n",
      "4. Search for employees\n",
      "5. List all employees\n",
      "6. Exit\n"
     ]
    },
    {
     "name": "stdin",
     "output_type": "stream",
     "text": [
      "Enter your choice (1/2/3/4/5/6):  1\n",
      "Enter employee email:  abdo@gmail.com\n",
      "Enter employee salary:  \n",
      "Enter employee name:  \n",
      "Enter employee position:  \n"
     ]
    },
    {
     "name": "stdout",
     "output_type": "stream",
     "text": [
      "Please enter all required fields.\n",
      "\n",
      "\n",
      "Please choose an option:\n",
      "1. Add new employee\n",
      "2. Update employee\n",
      "3. Delete employee\n",
      "4. Search for employees\n",
      "5. List all employees\n",
      "6. Exit\n"
     ]
    },
    {
     "name": "stdin",
     "output_type": "stream",
     "text": [
      "Enter your choice (1/2/3/4/5/6):  2\n"
     ]
    }
   ],
   "source": [
    "# Start program\n",
    "employee_manager=EmployeeManager(\"csv/employees-info.csv\")\n",
    "print(\"Hello👋, Welcome to Employee Management System!\")\n",
    "while True:\n",
    "    print_options()\n",
    "    try:\n",
    "        choice = input(\"Enter your choice (1/2/3/4/5/6): \")\n",
    "        if choice == \"1\":\n",
    "            handle_choice_1()\n",
    "        elif choice == \"2\":\n",
    "            handle_choice_2()\n",
    "        elif choice == \"3\":\n",
    "            handle_choice_3()\n",
    "        elif choice == \"4\":\n",
    "            handle_choice_4()\n",
    "        elif choice == \"5\":\n",
    "            handle_choice_5()\n",
    "        elif choice == \"6\":\n",
    "            print(\"Good bye!\")\n",
    "            break\n",
    "        else: print(\"Invalid choice\\n\\n\")\n",
    "    except KeyboardInterrupt:\n",
    "        print(\"\\nGood bye!\")\n",
    "        break\n",
    "\n"
   ]
  }
 ],
 "metadata": {
  "kernelspec": {
   "display_name": "Python 3 (ipykernel)",
   "language": "python",
   "name": "python3"
  },
  "language_info": {
   "codemirror_mode": {
    "name": "ipython",
    "version": 3
   },
   "file_extension": ".py",
   "mimetype": "text/x-python",
   "name": "python",
   "nbconvert_exporter": "python",
   "pygments_lexer": "ipython3",
   "version": "3.9.20"
  },
  "widgets": {
   "application/vnd.jupyter.widget-state+json": {
    "state": {},
    "version_major": 2,
    "version_minor": 0
   }
  }
 },
 "nbformat": 4,
 "nbformat_minor": 5
}
